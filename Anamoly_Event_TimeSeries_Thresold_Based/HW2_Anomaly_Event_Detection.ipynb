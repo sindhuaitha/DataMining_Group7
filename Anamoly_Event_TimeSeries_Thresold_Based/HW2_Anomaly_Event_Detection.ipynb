{
 "cells": [
  {
   "cell_type": "code",
   "execution_count": 1,
   "metadata": {},
   "outputs": [
    {
     "data": {
      "text/plain": [
       "(30790, 3)"
      ]
     },
     "execution_count": 1,
     "metadata": {},
     "output_type": "execute_result"
    }
   ],
   "source": [
    "import pandas as pd\n",
    "import numpy as np\n",
    "%matplotlib inline\n",
    "import matplotlib.pyplot as plt\n",
    "plt.style.use('seaborn-whitegrid')\n",
    "\n",
    "nitrate_data = pd.read_csv('DATA\\AG_NO3_fill_cells_remove_NAN.csv', header='infer' ) \n",
    "nitrate_data.shape\n"
   ]
  },
  {
   "cell_type": "code",
   "execution_count": 2,
   "metadata": {},
   "outputs": [
    {
     "data": {
      "text/html": [
       "<div>\n",
       "<style scoped>\n",
       "    .dataframe tbody tr th:only-of-type {\n",
       "        vertical-align: middle;\n",
       "    }\n",
       "\n",
       "    .dataframe tbody tr th {\n",
       "        vertical-align: top;\n",
       "    }\n",
       "\n",
       "    .dataframe thead th {\n",
       "        text-align: right;\n",
       "    }\n",
       "</style>\n",
       "<table border=\"1\" class=\"dataframe\">\n",
       "  <thead>\n",
       "    <tr style=\"text-align: right;\">\n",
       "      <th></th>\n",
       "      <th>Date</th>\n",
       "      <th>NO3N</th>\n",
       "      <th>Student_Flag</th>\n",
       "    </tr>\n",
       "  </thead>\n",
       "  <tbody>\n",
       "    <tr>\n",
       "      <th>0</th>\n",
       "      <td>8/2/2016 12:29</td>\n",
       "      <td>0.071</td>\n",
       "      <td>0.0</td>\n",
       "    </tr>\n",
       "    <tr>\n",
       "      <th>1</th>\n",
       "      <td>8/2/2016 12:59</td>\n",
       "      <td>0.030</td>\n",
       "      <td>0.0</td>\n",
       "    </tr>\n",
       "    <tr>\n",
       "      <th>2</th>\n",
       "      <td>8/2/2016 13:29</td>\n",
       "      <td>0.030</td>\n",
       "      <td>0.0</td>\n",
       "    </tr>\n",
       "    <tr>\n",
       "      <th>3</th>\n",
       "      <td>8/2/2016 13:59</td>\n",
       "      <td>0.030</td>\n",
       "      <td>0.0</td>\n",
       "    </tr>\n",
       "    <tr>\n",
       "      <th>4</th>\n",
       "      <td>8/2/2016 14:29</td>\n",
       "      <td>0.030</td>\n",
       "      <td>0.0</td>\n",
       "    </tr>\n",
       "  </tbody>\n",
       "</table>\n",
       "</div>"
      ],
      "text/plain": [
       "             Date   NO3N  Student_Flag\n",
       "0  8/2/2016 12:29  0.071           0.0\n",
       "1  8/2/2016 12:59  0.030           0.0\n",
       "2  8/2/2016 13:29  0.030           0.0\n",
       "3  8/2/2016 13:59  0.030           0.0\n",
       "4  8/2/2016 14:29  0.030           0.0"
      ]
     },
     "execution_count": 2,
     "metadata": {},
     "output_type": "execute_result"
    }
   ],
   "source": [
    "nitrate_data.head()"
   ]
  },
  {
   "cell_type": "code",
   "execution_count": 3,
   "metadata": {},
   "outputs": [
    {
     "name": "stdout",
     "output_type": "stream",
     "text": [
      "<class 'pandas.core.frame.DataFrame'>\n",
      "RangeIndex: 30790 entries, 0 to 30789\n",
      "Data columns (total 3 columns):\n",
      " #   Column        Non-Null Count  Dtype  \n",
      "---  ------        --------------  -----  \n",
      " 0   Date          15808 non-null  object \n",
      " 1   NO3N          15808 non-null  float64\n",
      " 2   Student_Flag  15808 non-null  float64\n",
      "dtypes: float64(2), object(1)\n",
      "memory usage: 721.8+ KB\n"
     ]
    }
   ],
   "source": [
    "nitrate_data.info()"
   ]
  },
  {
   "cell_type": "code",
   "execution_count": 4,
   "metadata": {},
   "outputs": [
    {
     "data": {
      "text/plain": [
       "Date            True\n",
       "NO3N            True\n",
       "Student_Flag    True\n",
       "dtype: bool"
      ]
     },
     "execution_count": 4,
     "metadata": {},
     "output_type": "execute_result"
    }
   ],
   "source": [
    "nitrate_data.isnull().any()"
   ]
  },
  {
   "cell_type": "code",
   "execution_count": 5,
   "metadata": {},
   "outputs": [
    {
     "data": {
      "text/plain": [
       "Date            14982\n",
       "NO3N            14982\n",
       "Student_Flag    14982\n",
       "dtype: int64"
      ]
     },
     "execution_count": 5,
     "metadata": {},
     "output_type": "execute_result"
    }
   ],
   "source": [
    "nitrate_data.isnull().sum()"
   ]
  },
  {
   "cell_type": "code",
   "execution_count": 6,
   "metadata": {},
   "outputs": [
    {
     "data": {
      "text/plain": [
       "Date            0\n",
       "NO3N            0\n",
       "Student_Flag    0\n",
       "dtype: int64"
      ]
     },
     "execution_count": 6,
     "metadata": {},
     "output_type": "execute_result"
    }
   ],
   "source": [
    "nitrate_data = nitrate_data[pd.notnull(nitrate_data['Date'])]\n",
    "nitrate_data.isnull().sum()"
   ]
  },
  {
   "cell_type": "code",
   "execution_count": 7,
   "metadata": {},
   "outputs": [
    {
     "name": "stdout",
     "output_type": "stream",
     "text": [
      "anamoly_event_count: 77\n",
      "normal_event_count: 15731\n",
      "Data Length: 15808\n",
      "anamoly record : 58\n",
      "normal record : 13178\n",
      "anamoly record detection accuracy: 0.7532467532467533\n",
      "normal record detection accuracy: 0.8377089822643189\n"
     ]
    }
   ],
   "source": [
    "#nitrate_data = nitrate_data[:20]\n",
    "anamoly_event_count = len(nitrate_data[nitrate_data['Student_Flag']==1.0])\n",
    "print('anamoly_event_count:',anamoly_event_count)\n",
    "normal_event_count = len(nitrate_data[nitrate_data['Student_Flag']==0.0])\n",
    "print('normal_event_count:',normal_event_count)\n",
    "#print('Our Data:',nitrate_data)\n",
    "window = 6\n",
    "percentile_var = 95\n",
    "N = len(nitrate_data)\n",
    "print('Data Length:',N)\n",
    "window_start_index = 0\n",
    "correct_anamoly_count = 0\n",
    "correct_normal_count = 0\n",
    "\n",
    "while window_start_index <= N - window:\n",
    "    #print(\"window_start_index : \",window_start_index)\n",
    "    if window_start_index == 0:\n",
    "        working_data = nitrate_data[window_start_index:window_start_index+window]\n",
    "        #print(\"Iteration : \",window_start_index)\n",
    "        percentile = np.percentile(working_data.NO3N, percentile_var)\n",
    "        #print('Percentile:',percentile)\n",
    "        np_arr = np.array(working_data)\n",
    "        for i in np_arr:\n",
    "            #this block is for anamoly record\n",
    "            if i[1] > percentile:\n",
    "                #print('outlier record:',i)\n",
    "                #correct\n",
    "                if i[2] == 1:\n",
    "                    correct_anamoly_count += 1\n",
    "                    #print('correct')\n",
    "            # this block is for normal event\n",
    "            else:\n",
    "                #print('normal record:',i)\n",
    "                if i[2] == 0:\n",
    "                    correct_normal_count +=1\n",
    "    else:\n",
    "        working_data = nitrate_data[window_start_index:window_start_index+window]\n",
    "        #print(\"Iteration : \",window_start_index)\n",
    "        percentile = np.percentile(working_data.NO3N, percentile_var)\n",
    "        #print('Percentile:',percentile)\n",
    "        np_arr = np.array(working_data)\n",
    "        new_added_record = np_arr[window-1]\n",
    "        #this block is for anamoly record\n",
    "        if new_added_record[1] > percentile:\n",
    "            #print('outlier record:',new_added_record)\n",
    "            #correct\n",
    "            if new_added_record[2] == 1:\n",
    "                correct_anamoly_count += 1\n",
    "                #print('correct')\n",
    "        # this block is for normal event\n",
    "        else:\n",
    "            #print('normal record:',new_added_record)\n",
    "            if new_added_record[2] == 0:\n",
    "                correct_normal_count +=1\n",
    "    window_start_index += 1\n",
    "\n",
    "print('anamoly record :',correct_anamoly_count)\n",
    "print('normal record :',correct_normal_count)\n",
    "\n",
    "print('anamoly record detection accuracy:',correct_anamoly_count/anamoly_event_count)\n",
    "print('normal record detection accuracy:',correct_normal_count/normal_event_count)\n"
   ]
  },
  {
   "cell_type": "code",
   "execution_count": null,
   "metadata": {},
   "outputs": [],
   "source": []
  },
  {
   "cell_type": "code",
   "execution_count": null,
   "metadata": {},
   "outputs": [],
   "source": []
  },
  {
   "cell_type": "code",
   "execution_count": null,
   "metadata": {},
   "outputs": [],
   "source": []
  }
 ],
 "metadata": {
  "kernelspec": {
   "display_name": "Python 3",
   "language": "python",
   "name": "python3"
  },
  "language_info": {
   "codemirror_mode": {
    "name": "ipython",
    "version": 3
   },
   "file_extension": ".py",
   "mimetype": "text/x-python",
   "name": "python",
   "nbconvert_exporter": "python",
   "pygments_lexer": "ipython3",
   "version": "3.8.3"
  }
 },
 "nbformat": 4,
 "nbformat_minor": 4
}
